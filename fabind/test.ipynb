{
 "cells": [
  {
   "cell_type": "code",
   "execution_count": 17,
   "metadata": {},
   "outputs": [],
   "source": [
    "import torch\n",
    "import pickle\n",
    "import lmdb\n",
    "protein_esm2_feat = lmdb.open(\n",
    "                \"../pdbbind2020/dataset/processed/esm2_t33_650M_UR50D.lmdb\",\n",
    "                readonly=True,\n",
    "                max_readers=1,\n",
    "                lock=False,\n",
    "                readahead=False,\n",
    "                meminit=False,\n",
    "            )"
   ]
  },
  {
   "cell_type": "code",
   "execution_count": 26,
   "metadata": {},
   "outputs": [
    {
     "ename": "SyntaxError",
     "evalue": "invalid syntax (548907123.py, line 2)",
     "output_type": "error",
     "traceback": [
      "\u001b[0;36m  Cell \u001b[0;32mIn[26], line 2\u001b[0;36m\u001b[0m\n\u001b[0;31m    cd ../\u001b[0m\n\u001b[0m        ^\u001b[0m\n\u001b[0;31mSyntaxError\u001b[0m\u001b[0;31m:\u001b[0m invalid syntax\n"
     ]
    }
   ],
   "source": []
  },
  {
   "cell_type": "code",
   "execution_count": 22,
   "metadata": {},
   "outputs": [],
   "source": [
    "from glob import glob\n",
    "import os\n",
    "weight_path = './ckpt'\n",
    "protein_name = '1a01'\n",
    "all_finetune_weights = glob('ckpt/*')"
   ]
  },
  {
   "cell_type": "code",
   "execution_count": 23,
   "metadata": {},
   "outputs": [
    {
     "data": {
      "text/plain": [
       "['ckpt/best_model.bin']"
      ]
     },
     "execution_count": 23,
     "metadata": {},
     "output_type": "execute_result"
    }
   ],
   "source": [
    "all_finetune_weights"
   ]
  },
  {
   "cell_type": "code",
   "execution_count": 10,
   "metadata": {},
   "outputs": [
    {
     "data": {
      "text/plain": [
       "'./ckpt/*1a01*'"
      ]
     },
     "execution_count": 10,
     "metadata": {},
     "output_type": "execute_result"
    }
   ],
   "source": [
    "weight_path+'/*' + protein_name + '*' "
   ]
  },
  {
   "cell_type": "code",
   "execution_count": 11,
   "metadata": {},
   "outputs": [
    {
     "data": {
      "text/plain": [
       "[]"
      ]
     },
     "execution_count": 11,
     "metadata": {},
     "output_type": "execute_result"
    }
   ],
   "source": [
    "all_finetune_weights"
   ]
  },
  {
   "cell_type": "code",
   "execution_count": 6,
   "metadata": {},
   "outputs": [
    {
     "data": {
      "text/plain": [
       "[]"
      ]
     },
     "execution_count": 6,
     "metadata": {},
     "output_type": "execute_result"
    }
   ],
   "source": [
    "all_finetune_weights"
   ]
  },
  {
   "cell_type": "code",
   "execution_count": null,
   "metadata": {},
   "outputs": [],
   "source": []
  },
  {
   "cell_type": "code",
   "execution_count": 13,
   "metadata": {},
   "outputs": [
    {
     "data": {
      "text/plain": [
       "['__class__',\n",
       " '__delattr__',\n",
       " '__dir__',\n",
       " '__doc__',\n",
       " '__enter__',\n",
       " '__eq__',\n",
       " '__exit__',\n",
       " '__format__',\n",
       " '__ge__',\n",
       " '__getattribute__',\n",
       " '__gt__',\n",
       " '__hash__',\n",
       " '__init__',\n",
       " '__init_subclass__',\n",
       " '__le__',\n",
       " '__lt__',\n",
       " '__ne__',\n",
       " '__new__',\n",
       " '__reduce__',\n",
       " '__reduce_ex__',\n",
       " '__repr__',\n",
       " '__setattr__',\n",
       " '__sizeof__',\n",
       " '__str__',\n",
       " '__subclasshook__',\n",
       " 'begin',\n",
       " 'close',\n",
       " 'copy',\n",
       " 'copyfd',\n",
       " 'flags',\n",
       " 'info',\n",
       " 'max_key_size',\n",
       " 'max_readers',\n",
       " 'open_db',\n",
       " 'path',\n",
       " 'reader_check',\n",
       " 'readers',\n",
       " 'set_mapsize',\n",
       " 'stat',\n",
       " 'sync']"
      ]
     },
     "execution_count": 13,
     "metadata": {},
     "output_type": "execute_result"
    }
   ],
   "source": [
    "dir(protein_esm2_feat)"
   ]
  },
  {
   "cell_type": "code",
   "execution_count": 15,
   "metadata": {},
   "outputs": [
    {
     "ename": "TypeError",
     "evalue": "'Environment' object is not iterable",
     "output_type": "error",
     "traceback": [
      "\u001b[0;31m---------------------------------------------------------------------------\u001b[0m",
      "\u001b[0;31mTypeError\u001b[0m                                 Traceback (most recent call last)",
      "Cell \u001b[0;32mIn[15], line 1\u001b[0m\n\u001b[0;32m----> 1\u001b[0m \u001b[38;5;28;01mfor\u001b[39;00m i \u001b[38;5;129;01min\u001b[39;00m protein_esm2_feat:\n\u001b[1;32m      2\u001b[0m     \u001b[38;5;28mprint\u001b[39m(i)\n",
      "\u001b[0;31mTypeError\u001b[0m: 'Environment' object is not iterable"
     ]
    }
   ],
   "source": [
    "for i in protein_esm2_feat:\n",
    "    print(i)"
   ]
  },
  {
   "cell_type": "code",
   "execution_count": 8,
   "metadata": {},
   "outputs": [],
   "source": [
    "line             = torch.load('../pdbbind2020/dataset/processed/data.pt')"
   ]
  },
  {
   "cell_type": "code",
   "execution_count": 16,
   "metadata": {},
   "outputs": [
    {
     "ename": "TypeError",
     "evalue": "a bytes-like object is required, not 'NoneType'",
     "output_type": "error",
     "traceback": [
      "\u001b[0;31m---------------------------------------------------------------------------\u001b[0m",
      "\u001b[0;31mTypeError\u001b[0m                                 Traceback (most recent call last)",
      "Cell \u001b[0;32mIn[16], line 2\u001b[0m\n\u001b[1;32m      1\u001b[0m \u001b[38;5;28;01mwith\u001b[39;00m protein_esm2_feat\u001b[38;5;241m.\u001b[39mbegin() \u001b[38;5;28;01mas\u001b[39;00m txn:\n\u001b[0;32m----> 2\u001b[0m     \u001b[38;5;28mprint\u001b[39m(\u001b[43mpickle\u001b[49m\u001b[38;5;241;43m.\u001b[39;49m\u001b[43mloads\u001b[49m\u001b[43m(\u001b[49m\u001b[43mtxn\u001b[49m\u001b[38;5;241;43m.\u001b[39;49m\u001b[43mget\u001b[49m\u001b[43m(\u001b[49m\u001b[38;5;124;43m\"\u001b[39;49m\u001b[38;5;124;43m31231\u001b[39;49m\u001b[38;5;124;43m\"\u001b[39;49m\u001b[38;5;241;43m.\u001b[39;49m\u001b[43mencode\u001b[49m\u001b[43m(\u001b[49m\u001b[43m)\u001b[49m\u001b[43m)\u001b[49m\u001b[43m)\u001b[49m)\n",
      "\u001b[0;31mTypeError\u001b[0m: a bytes-like object is required, not 'NoneType'"
     ]
    }
   ],
   "source": [
    "with protein_esm2_feat.begin() as txn:\n",
    "    protein_esm2_feat1 = pickle.loads(txn.get(\"31231\".encode()))"
   ]
  },
  {
   "cell_type": "code",
   "execution_count": 20,
   "metadata": {},
   "outputs": [],
   "source": [
    "line = torch.load('../pdbbind2020/dataset/processed/data.pt')\n",
    "with protein_esm2_feat.begin() as txn:\n",
    "    protein_name      = line.iloc[0]['protein_name']\n",
    "    protein_esm2_feat1 = pickle.loads(txn.get(protein_name.encode()))\n",
    "    "
   ]
  },
  {
   "cell_type": "code",
   "execution_count": 21,
   "metadata": {},
   "outputs": [
    {
     "data": {
      "text/plain": [
       "torch.Size([291, 1280])"
      ]
     },
     "execution_count": 21,
     "metadata": {},
     "output_type": "execute_result"
    }
   ],
   "source": [
    "protein_esm2_feat1.shape"
   ]
  },
  {
   "cell_type": "code",
   "execution_count": null,
   "metadata": {},
   "outputs": [],
   "source": []
  },
  {
   "cell_type": "code",
   "execution_count": null,
   "metadata": {},
   "outputs": [],
   "source": []
  },
  {
   "cell_type": "code",
   "execution_count": 33,
   "metadata": {},
   "outputs": [
    {
     "name": "stdout",
     "output_type": "stream",
     "text": [
      "tensor([[ 0.1865,  0.0148, -0.1291,  ...,  0.0708, -0.0617,  0.1679],\n",
      "        [ 0.0172,  0.1086, -0.0219,  ...,  0.2303,  0.2276,  0.0172],\n",
      "        [ 0.0442,  0.0833, -0.0478,  ...,  0.2607,  0.1200, -0.0870],\n",
      "        ...,\n",
      "        [ 0.0447,  0.1273,  0.1585,  ..., -0.2769, -0.3571,  0.5383],\n",
      "        [-0.0893,  0.1434, -0.0543,  ..., -0.1227, -0.0075,  0.3593],\n",
      "        [-0.0355,  0.0559, -0.0796,  ..., -0.0785, -0.0476,  0.2661]])\n"
     ]
    }
   ],
   "source": [
    "\n",
    "with protein_esm2_feat.begin() as txn:\n",
    "    protein_name      = line.iloc[0]['protein_name']\n",
    "    protein_esm2_feat1 = pickle.loads(txn.get(protein_name.encode()))\n"
   ]
  },
  {
   "cell_type": "code",
   "execution_count": 32,
   "metadata": {},
   "outputs": [
    {
     "data": {
      "text/plain": [
       "'3zzf'"
      ]
     },
     "execution_count": 32,
     "metadata": {},
     "output_type": "execute_result"
    }
   ],
   "source": [
    "protein_name"
   ]
  },
  {
   "cell_type": "code",
   "execution_count": 3,
   "metadata": {},
   "outputs": [
    {
     "data": {
      "text/plain": [
       "array([[-3.77981842e+00, -9.22210274e-01, -3.20410880e-01],\n",
       "       [-2.38174920e+00, -1.17237978e+00,  1.77066058e-01],\n",
       "       [-2.09931853e+00, -2.13860982e+00,  8.76890576e-01],\n",
       "       [-1.46769969e+00, -2.19092666e-01, -2.13817500e-01],\n",
       "       [-1.16789091e-01, -2.17169835e-01,  3.60188695e-01],\n",
       "       [ 8.68077572e-01,  3.35415426e-01, -6.74616934e-01],\n",
       "       [ 2.32418203e+00, -1.97429575e-03, -3.47683635e-01],\n",
       "       [ 3.25022849e+00,  4.85440332e-01, -1.42848341e+00],\n",
       "       [ 2.97515002e+00,  1.22481597e+00, -2.35760304e+00],\n",
       "       [ 4.50367204e+00,  2.11021086e-02, -1.26610224e+00],\n",
       "       [-8.59449966e-02,  6.37439061e-01,  1.63645653e+00],\n",
       "       [ 8.49090076e-01,  7.33921509e-01,  2.41623857e+00],\n",
       "       [-1.19272825e+00,  1.39303677e+00,  1.82336000e+00]])"
      ]
     },
     "execution_count": 3,
     "metadata": {},
     "output_type": "execute_result"
    }
   ],
   "source": [
    "torch.load('../pdbbind2020/dataset/processed/compound_rdkit_coords.pt')['3zzf']"
   ]
  },
  {
   "cell_type": "code",
   "execution_count": 4,
   "metadata": {},
   "outputs": [],
   "source": [
    "import lmdb"
   ]
  },
  {
   "cell_type": "code",
   "execution_count": 5,
   "metadata": {},
   "outputs": [],
   "source": [
    "processed_paths = [\"data.pt\",\"protein_1d_3d.lmdb\",\"compound_LAS_edge_index.lmdb\",\n",
    "                \"compound_rdkit_coords.pt\",\"esm2_t33_650M_UR50D.lmdb\",]"
   ]
  },
  {
   "cell_type": "code",
   "execution_count": 6,
   "metadata": {},
   "outputs": [],
   "source": [
    "protein_dict = lmdb.open(\n",
    "            '../pdbbind2020/dataset/processed/protein_1d_3d.lmdb',\n",
    "            readonly=True,\n",
    "            max_readers=1,\n",
    "            lock=False,\n",
    "            readahead=False,\n",
    "            meminit=False,\n",
    "        )\n",
    "compound_dict = lmdb.open(\n",
    "            \"../pdbbind2020/dataset/processed/compound_LAS_edge_index.lmdb\",\n",
    "            readonly=True,\n",
    "            max_readers=1,\n",
    "            lock=False,\n",
    "            readahead=False,\n",
    "            meminit=False,\n",
    "        )\n",
    "protein_esm2_feat = lmdb.open(\n",
    "                \"../pdbbind2020/dataset/processed/esm2_t33_650M_UR50D.lmdb\",\n",
    "                readonly=True,\n",
    "                max_readers=1,\n",
    "                lock=False,\n",
    "                readahead=False,\n",
    "                meminit=False,\n",
    "            )"
   ]
  },
  {
   "cell_type": "code",
   "execution_count": 7,
   "metadata": {},
   "outputs": [],
   "source": [
    "protein_dict\n",
    "import pickle"
   ]
  },
  {
   "cell_type": "code",
   "execution_count": 8,
   "metadata": {},
   "outputs": [],
   "source": [
    "protein_name = '3zzf'\n",
    "with protein_esm2_feat.begin() as txn:\n",
    "        protein_esm2_feat1 = pickle.loads(txn.get(protein_name.encode()))"
   ]
  },
  {
   "cell_type": "code",
   "execution_count": 9,
   "metadata": {},
   "outputs": [
    {
     "data": {
      "text/plain": [
       "torch.Size([291, 1280])"
      ]
     },
     "execution_count": 9,
     "metadata": {},
     "output_type": "execute_result"
    }
   ],
   "source": [
    "protein_esm2_feat1.shape"
   ]
  },
  {
   "cell_type": "code",
   "execution_count": 10,
   "metadata": {},
   "outputs": [],
   "source": [
    "protein_name = '2avi'\n",
    "with protein_esm2_feat.begin() as txn:\n",
    "        protein_esm2_feat2 = pickle.loads(txn.get(protein_name.encode()))"
   ]
  },
  {
   "cell_type": "code",
   "execution_count": 11,
   "metadata": {},
   "outputs": [
    {
     "data": {
      "text/plain": [
       "torch.Size([291, 1280])"
      ]
     },
     "execution_count": 11,
     "metadata": {},
     "output_type": "execute_result"
    }
   ],
   "source": [
    "protein_esm2_feat1.shape"
   ]
  },
  {
   "cell_type": "code",
   "execution_count": 12,
   "metadata": {},
   "outputs": [
    {
     "data": {
      "text/plain": [
       "torch.Size([363, 1280])"
      ]
     },
     "execution_count": 12,
     "metadata": {},
     "output_type": "execute_result"
    }
   ],
   "source": [
    "protein_esm2_feat2.shape"
   ]
  },
  {
   "cell_type": "code",
   "execution_count": null,
   "metadata": {},
   "outputs": [],
   "source": []
  },
  {
   "cell_type": "code",
   "execution_count": 19,
   "metadata": {},
   "outputs": [],
   "source": [
    "import lmdb\n",
    "import os\n",
    "from glob import glob\n",
    "data_path = \"./pdbbind2020/dataset/processed/protein_1d_3d.lmdb\""
   ]
  },
  {
   "cell_type": "code",
   "execution_count": 18,
   "metadata": {},
   "outputs": [
    {
     "data": {
      "text/plain": [
       "[]"
      ]
     },
     "execution_count": 18,
     "metadata": {},
     "output_type": "execute_result"
    }
   ],
   "source": [
    "glob(data_path)"
   ]
  },
  {
   "cell_type": "code",
   "execution_count": null,
   "metadata": {},
   "outputs": [],
   "source": [
    "lmdb.open(os.path.join(data_path, 'esm2_t33_650M_UR50D.lmdb'), map_size=1024 ** 4)"
   ]
  }
 ],
 "metadata": {
  "kernelspec": {
   "display_name": "yolo_attack",
   "language": "python",
   "name": "python3"
  },
  "language_info": {
   "codemirror_mode": {
    "name": "ipython",
    "version": 3
   },
   "file_extension": ".py",
   "mimetype": "text/x-python",
   "name": "python",
   "nbconvert_exporter": "python",
   "pygments_lexer": "ipython3",
   "version": "3.10.13"
  }
 },
 "nbformat": 4,
 "nbformat_minor": 2
}
